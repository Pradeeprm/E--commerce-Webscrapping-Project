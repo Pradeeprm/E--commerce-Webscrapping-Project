{
  "nbformat": 4,
  "nbformat_minor": 0,
  "metadata": {
    "colab": {
      "provenance": []
    },
    "kernelspec": {
      "name": "python3",
      "display_name": "Python 3"
    },
    "language_info": {
      "name": "python"
    }
  },
  "cells": [
    {
      "cell_type": "code",
      "execution_count": 1,
      "metadata": {
        "id": "wtEaa67CfW9M"
      },
      "outputs": [],
      "source": [
        "import requests\n",
        "from bs4 import BeautifulSoup"
      ]
    },
    {
      "cell_type": "code",
      "source": [
        "url='https://www.amazon.in/s?k=washing+machine&page=2&crid=QVHWUNQVA5HG&qid=1670153426&sprefix=washing%2Caps%2C396&ref=sr_pg_1'\n",
        "req=requests.get(url)\n",
        "print(req)\n",
        "data=BeautifulSoup(req.content,'html.parser')\n"
      ],
      "metadata": {
        "colab": {
          "base_uri": "https://localhost:8080/"
        },
        "id": "aZ6WArzXCsuv",
        "outputId": "b9008165-09b4-4065-a02e-b3b91077813c"
      },
      "execution_count": 6,
      "outputs": [
        {
          "output_type": "stream",
          "name": "stdout",
          "text": [
            "<Response [200]>\n"
          ]
        }
      ]
    },
    {
      "cell_type": "code",
      "source": [
        "url_list=[]\n",
        "for i in range(1,21):\n",
        "  url_list.append('https://www.amazon.in/s?k=washing&crid=22T9AU7D5S3IJ&qid=1670122845&sprefix=wahsing%2Caps%2C261&ref=sr_pg_' + str(i))\n",
        "url_list\n"
      ],
      "metadata": {
        "colab": {
          "base_uri": "https://localhost:8080/"
        },
        "id": "aoFtBMloGJHN",
        "outputId": "4f0031ed-1c7d-406a-e92b-671fef8ec18b"
      },
      "execution_count": 7,
      "outputs": [
        {
          "output_type": "execute_result",
          "data": {
            "text/plain": [
              "['https://www.amazon.in/s?k=washing&crid=22T9AU7D5S3IJ&qid=1670122845&sprefix=wahsing%2Caps%2C261&ref=sr_pg_1',\n",
              " 'https://www.amazon.in/s?k=washing&crid=22T9AU7D5S3IJ&qid=1670122845&sprefix=wahsing%2Caps%2C261&ref=sr_pg_2',\n",
              " 'https://www.amazon.in/s?k=washing&crid=22T9AU7D5S3IJ&qid=1670122845&sprefix=wahsing%2Caps%2C261&ref=sr_pg_3',\n",
              " 'https://www.amazon.in/s?k=washing&crid=22T9AU7D5S3IJ&qid=1670122845&sprefix=wahsing%2Caps%2C261&ref=sr_pg_4',\n",
              " 'https://www.amazon.in/s?k=washing&crid=22T9AU7D5S3IJ&qid=1670122845&sprefix=wahsing%2Caps%2C261&ref=sr_pg_5',\n",
              " 'https://www.amazon.in/s?k=washing&crid=22T9AU7D5S3IJ&qid=1670122845&sprefix=wahsing%2Caps%2C261&ref=sr_pg_6',\n",
              " 'https://www.amazon.in/s?k=washing&crid=22T9AU7D5S3IJ&qid=1670122845&sprefix=wahsing%2Caps%2C261&ref=sr_pg_7',\n",
              " 'https://www.amazon.in/s?k=washing&crid=22T9AU7D5S3IJ&qid=1670122845&sprefix=wahsing%2Caps%2C261&ref=sr_pg_8',\n",
              " 'https://www.amazon.in/s?k=washing&crid=22T9AU7D5S3IJ&qid=1670122845&sprefix=wahsing%2Caps%2C261&ref=sr_pg_9',\n",
              " 'https://www.amazon.in/s?k=washing&crid=22T9AU7D5S3IJ&qid=1670122845&sprefix=wahsing%2Caps%2C261&ref=sr_pg_10',\n",
              " 'https://www.amazon.in/s?k=washing&crid=22T9AU7D5S3IJ&qid=1670122845&sprefix=wahsing%2Caps%2C261&ref=sr_pg_11',\n",
              " 'https://www.amazon.in/s?k=washing&crid=22T9AU7D5S3IJ&qid=1670122845&sprefix=wahsing%2Caps%2C261&ref=sr_pg_12',\n",
              " 'https://www.amazon.in/s?k=washing&crid=22T9AU7D5S3IJ&qid=1670122845&sprefix=wahsing%2Caps%2C261&ref=sr_pg_13',\n",
              " 'https://www.amazon.in/s?k=washing&crid=22T9AU7D5S3IJ&qid=1670122845&sprefix=wahsing%2Caps%2C261&ref=sr_pg_14',\n",
              " 'https://www.amazon.in/s?k=washing&crid=22T9AU7D5S3IJ&qid=1670122845&sprefix=wahsing%2Caps%2C261&ref=sr_pg_15',\n",
              " 'https://www.amazon.in/s?k=washing&crid=22T9AU7D5S3IJ&qid=1670122845&sprefix=wahsing%2Caps%2C261&ref=sr_pg_16',\n",
              " 'https://www.amazon.in/s?k=washing&crid=22T9AU7D5S3IJ&qid=1670122845&sprefix=wahsing%2Caps%2C261&ref=sr_pg_17',\n",
              " 'https://www.amazon.in/s?k=washing&crid=22T9AU7D5S3IJ&qid=1670122845&sprefix=wahsing%2Caps%2C261&ref=sr_pg_18',\n",
              " 'https://www.amazon.in/s?k=washing&crid=22T9AU7D5S3IJ&qid=1670122845&sprefix=wahsing%2Caps%2C261&ref=sr_pg_19',\n",
              " 'https://www.amazon.in/s?k=washing&crid=22T9AU7D5S3IJ&qid=1670122845&sprefix=wahsing%2Caps%2C261&ref=sr_pg_20']"
            ]
          },
          "metadata": {},
          "execution_count": 7
        }
      ]
    },
    {
      "cell_type": "code",
      "source": [
        "# title_name\n",
        "\n",
        "title_name=data.find_all('span', class_='a-size-medium a-color-base a-text-normal')\n",
        "\n",
        "title_name"
      ],
      "metadata": {
        "colab": {
          "base_uri": "https://localhost:8080/"
        },
        "id": "QK2LSLZ6H1E1",
        "outputId": "0e6a32d2-2a13-4a08-9a66-4e5751b5294b"
      },
      "execution_count": 8,
      "outputs": [
        {
          "output_type": "execute_result",
          "data": {
            "text/plain": [
              "[<span class=\"a-size-medium a-color-base a-text-normal\">Voltas Beko 7 Kg Semi-Automatic Top Loading Washing Machine (WTT70ALIM, Burgundy Qpaque)</span>,\n",
              " <span class=\"a-size-medium a-color-base a-text-normal\">LG 8.0 Kg 5 Star Inverter Touch Control Fully-Automatic Front Load Washing Machine with Heater(FHM1408BDL, Silver, 6 Motion Direct Drive)</span>,\n",
              " <span class=\"a-size-medium a-color-base a-text-normal\">LG 8 Kg 5 Star Inverter Fully-Automatic Top Loading Washing Machine (T80SJMB1Z, Middle Black, Jet Spray+)</span>,\n",
              " <span class=\"a-size-medium a-color-base a-text-normal\">LG 7 Kg 5 Star Inverter Fully-Automatic Top Loading Washing Machine (T70SJMB1Z, Middle Black, Jet Spray+)</span>,\n",
              " <span class=\"a-size-medium a-color-base a-text-normal\">LG 7.5 Kg 5 Star Smart Inverter Fully-Automatic Top Load Washing Machine (T75SKSF1Z, Middle Free Silver, TurboDrum | Smart Motion)</span>,\n",
              " <span class=\"a-size-medium a-color-base a-text-normal\">IFB 6.5 Kg 5 Star Front Load Washing Machine 2X Power Dual Steam (SENORITA SXS 6510, Silver &amp; Black, Active Color Protection, Hard Water Wash)</span>,\n",
              " <span class=\"a-size-medium a-color-base a-text-normal\">LG 7 kg 5 Star Semi-Automatic Top Loading Washing Machine (P7010RRAZ, Burgundy, Roller Jet Pulsator), Large</span>,\n",
              " <span class=\"a-size-medium a-color-base a-text-normal\">LG 9.0 Kg 5 Star Inverter Fully-Automatic Front Loading Washing Machine (FHM1409BDP, Platinum, 6 Motion Direct Drive)</span>,\n",
              " <span class=\"a-size-medium a-color-base a-text-normal\">Whirlpool 7.5 Kg Fully-Automatic Top Loading Washing Machine (Stainwash Ultra SC 10 YMW, Grey)</span>,\n",
              " <span class=\"a-size-medium a-color-base a-text-normal\">ElectroSky Portable Handy Washing Machine/Mini Washing Machine with 350 Watt (Grey)</span>,\n",
              " <span class=\"a-size-medium a-color-base a-text-normal\">LG 8.0 Kg Inverter Fully-Automatic Top Loading Washing Machine (T80SJSF1Z, Middle Free Silver)</span>,\n",
              " <span class=\"a-size-medium a-color-base a-text-normal\">LG 7 kg Inverter Fully-Automatic Top Loading Washing Machine (T70SPSF2Z, Middle Free Silver)</span>,\n",
              " <span class=\"a-size-medium a-color-base a-text-normal\">LG 10 Kg 5 Star Smart Inverter Fully-Automatic Top Load Washing Machine (T10SJMB1Z, Middle Black, TurboDrum | Jet Spray+)</span>,\n",
              " <span class=\"a-size-medium a-color-base a-text-normal\">LG 6.5 Kg 5 Star Smart Inverter Fully-Automatic Top Loading Washing Machine (T65SPSF2Z, Middle Free Silver, TurboDrum)</span>,\n",
              " <span class=\"a-size-medium a-color-base a-text-normal\">The Bling Stores Mini Foldable Washing Machine | Undergarments and use in travel also | Ultrasonic Cleaning Machine | Small Automatic Portable Underwear Folding Washing Machine [Multicolor]</span>,\n",
              " <span class=\"a-size-medium a-color-base a-text-normal\">LG 8 Kg 5 Star Inverter Wi-Fi Fully-Automatic Front Loading Washing Machine with Inbuilt heater (FHP1208Z5M, Middle Black, AI DD Technology &amp; Steam for Hygiene)</span>]"
            ]
          },
          "metadata": {},
          "execution_count": 8
        }
      ]
    },
    {
      "cell_type": "code",
      "source": [
        "title_name1=[]\n",
        "for i in title_name:\n",
        "  title_name1.append(i.text)\n",
        "  print(title_name1)\n"
      ],
      "metadata": {
        "id": "e2LpeYIYRKTy",
        "colab": {
          "base_uri": "https://localhost:8080/"
        },
        "outputId": "20440ecb-9762-4302-c8d4-82b320780ece"
      },
      "execution_count": 9,
      "outputs": [
        {
          "output_type": "stream",
          "name": "stdout",
          "text": [
            "['Voltas Beko 7 Kg Semi-Automatic Top Loading Washing Machine (WTT70ALIM, Burgundy Qpaque)']\n",
            "['Voltas Beko 7 Kg Semi-Automatic Top Loading Washing Machine (WTT70ALIM, Burgundy Qpaque)', 'LG 8.0 Kg 5 Star Inverter Touch Control Fully-Automatic Front Load Washing Machine with Heater(FHM1408BDL, Silver, 6 Motion Direct Drive)']\n",
            "['Voltas Beko 7 Kg Semi-Automatic Top Loading Washing Machine (WTT70ALIM, Burgundy Qpaque)', 'LG 8.0 Kg 5 Star Inverter Touch Control Fully-Automatic Front Load Washing Machine with Heater(FHM1408BDL, Silver, 6 Motion Direct Drive)', 'LG 8 Kg 5 Star Inverter Fully-Automatic Top Loading Washing Machine (T80SJMB1Z, Middle Black, Jet Spray+)']\n",
            "['Voltas Beko 7 Kg Semi-Automatic Top Loading Washing Machine (WTT70ALIM, Burgundy Qpaque)', 'LG 8.0 Kg 5 Star Inverter Touch Control Fully-Automatic Front Load Washing Machine with Heater(FHM1408BDL, Silver, 6 Motion Direct Drive)', 'LG 8 Kg 5 Star Inverter Fully-Automatic Top Loading Washing Machine (T80SJMB1Z, Middle Black, Jet Spray+)', 'LG 7 Kg 5 Star Inverter Fully-Automatic Top Loading Washing Machine (T70SJMB1Z, Middle Black, Jet Spray+)']\n",
            "['Voltas Beko 7 Kg Semi-Automatic Top Loading Washing Machine (WTT70ALIM, Burgundy Qpaque)', 'LG 8.0 Kg 5 Star Inverter Touch Control Fully-Automatic Front Load Washing Machine with Heater(FHM1408BDL, Silver, 6 Motion Direct Drive)', 'LG 8 Kg 5 Star Inverter Fully-Automatic Top Loading Washing Machine (T80SJMB1Z, Middle Black, Jet Spray+)', 'LG 7 Kg 5 Star Inverter Fully-Automatic Top Loading Washing Machine (T70SJMB1Z, Middle Black, Jet Spray+)', 'LG 7.5 Kg 5 Star Smart Inverter Fully-Automatic Top Load Washing Machine (T75SKSF1Z, Middle Free Silver, TurboDrum | Smart Motion)']\n",
            "['Voltas Beko 7 Kg Semi-Automatic Top Loading Washing Machine (WTT70ALIM, Burgundy Qpaque)', 'LG 8.0 Kg 5 Star Inverter Touch Control Fully-Automatic Front Load Washing Machine with Heater(FHM1408BDL, Silver, 6 Motion Direct Drive)', 'LG 8 Kg 5 Star Inverter Fully-Automatic Top Loading Washing Machine (T80SJMB1Z, Middle Black, Jet Spray+)', 'LG 7 Kg 5 Star Inverter Fully-Automatic Top Loading Washing Machine (T70SJMB1Z, Middle Black, Jet Spray+)', 'LG 7.5 Kg 5 Star Smart Inverter Fully-Automatic Top Load Washing Machine (T75SKSF1Z, Middle Free Silver, TurboDrum | Smart Motion)', 'IFB 6.5 Kg 5 Star Front Load Washing Machine 2X Power Dual Steam (SENORITA SXS 6510, Silver & Black, Active Color Protection, Hard Water Wash)']\n",
            "['Voltas Beko 7 Kg Semi-Automatic Top Loading Washing Machine (WTT70ALIM, Burgundy Qpaque)', 'LG 8.0 Kg 5 Star Inverter Touch Control Fully-Automatic Front Load Washing Machine with Heater(FHM1408BDL, Silver, 6 Motion Direct Drive)', 'LG 8 Kg 5 Star Inverter Fully-Automatic Top Loading Washing Machine (T80SJMB1Z, Middle Black, Jet Spray+)', 'LG 7 Kg 5 Star Inverter Fully-Automatic Top Loading Washing Machine (T70SJMB1Z, Middle Black, Jet Spray+)', 'LG 7.5 Kg 5 Star Smart Inverter Fully-Automatic Top Load Washing Machine (T75SKSF1Z, Middle Free Silver, TurboDrum | Smart Motion)', 'IFB 6.5 Kg 5 Star Front Load Washing Machine 2X Power Dual Steam (SENORITA SXS 6510, Silver & Black, Active Color Protection, Hard Water Wash)', 'LG 7 kg 5 Star Semi-Automatic Top Loading Washing Machine (P7010RRAZ, Burgundy, Roller Jet Pulsator), Large']\n",
            "['Voltas Beko 7 Kg Semi-Automatic Top Loading Washing Machine (WTT70ALIM, Burgundy Qpaque)', 'LG 8.0 Kg 5 Star Inverter Touch Control Fully-Automatic Front Load Washing Machine with Heater(FHM1408BDL, Silver, 6 Motion Direct Drive)', 'LG 8 Kg 5 Star Inverter Fully-Automatic Top Loading Washing Machine (T80SJMB1Z, Middle Black, Jet Spray+)', 'LG 7 Kg 5 Star Inverter Fully-Automatic Top Loading Washing Machine (T70SJMB1Z, Middle Black, Jet Spray+)', 'LG 7.5 Kg 5 Star Smart Inverter Fully-Automatic Top Load Washing Machine (T75SKSF1Z, Middle Free Silver, TurboDrum | Smart Motion)', 'IFB 6.5 Kg 5 Star Front Load Washing Machine 2X Power Dual Steam (SENORITA SXS 6510, Silver & Black, Active Color Protection, Hard Water Wash)', 'LG 7 kg 5 Star Semi-Automatic Top Loading Washing Machine (P7010RRAZ, Burgundy, Roller Jet Pulsator), Large', 'LG 9.0 Kg 5 Star Inverter Fully-Automatic Front Loading Washing Machine (FHM1409BDP, Platinum, 6 Motion Direct Drive)']\n",
            "['Voltas Beko 7 Kg Semi-Automatic Top Loading Washing Machine (WTT70ALIM, Burgundy Qpaque)', 'LG 8.0 Kg 5 Star Inverter Touch Control Fully-Automatic Front Load Washing Machine with Heater(FHM1408BDL, Silver, 6 Motion Direct Drive)', 'LG 8 Kg 5 Star Inverter Fully-Automatic Top Loading Washing Machine (T80SJMB1Z, Middle Black, Jet Spray+)', 'LG 7 Kg 5 Star Inverter Fully-Automatic Top Loading Washing Machine (T70SJMB1Z, Middle Black, Jet Spray+)', 'LG 7.5 Kg 5 Star Smart Inverter Fully-Automatic Top Load Washing Machine (T75SKSF1Z, Middle Free Silver, TurboDrum | Smart Motion)', 'IFB 6.5 Kg 5 Star Front Load Washing Machine 2X Power Dual Steam (SENORITA SXS 6510, Silver & Black, Active Color Protection, Hard Water Wash)', 'LG 7 kg 5 Star Semi-Automatic Top Loading Washing Machine (P7010RRAZ, Burgundy, Roller Jet Pulsator), Large', 'LG 9.0 Kg 5 Star Inverter Fully-Automatic Front Loading Washing Machine (FHM1409BDP, Platinum, 6 Motion Direct Drive)', 'Whirlpool 7.5 Kg Fully-Automatic Top Loading Washing Machine (Stainwash Ultra SC 10 YMW, Grey)']\n",
            "['Voltas Beko 7 Kg Semi-Automatic Top Loading Washing Machine (WTT70ALIM, Burgundy Qpaque)', 'LG 8.0 Kg 5 Star Inverter Touch Control Fully-Automatic Front Load Washing Machine with Heater(FHM1408BDL, Silver, 6 Motion Direct Drive)', 'LG 8 Kg 5 Star Inverter Fully-Automatic Top Loading Washing Machine (T80SJMB1Z, Middle Black, Jet Spray+)', 'LG 7 Kg 5 Star Inverter Fully-Automatic Top Loading Washing Machine (T70SJMB1Z, Middle Black, Jet Spray+)', 'LG 7.5 Kg 5 Star Smart Inverter Fully-Automatic Top Load Washing Machine (T75SKSF1Z, Middle Free Silver, TurboDrum | Smart Motion)', 'IFB 6.5 Kg 5 Star Front Load Washing Machine 2X Power Dual Steam (SENORITA SXS 6510, Silver & Black, Active Color Protection, Hard Water Wash)', 'LG 7 kg 5 Star Semi-Automatic Top Loading Washing Machine (P7010RRAZ, Burgundy, Roller Jet Pulsator), Large', 'LG 9.0 Kg 5 Star Inverter Fully-Automatic Front Loading Washing Machine (FHM1409BDP, Platinum, 6 Motion Direct Drive)', 'Whirlpool 7.5 Kg Fully-Automatic Top Loading Washing Machine (Stainwash Ultra SC 10 YMW, Grey)', 'ElectroSky Portable Handy Washing Machine/Mini Washing Machine with 350 Watt (Grey)']\n",
            "['Voltas Beko 7 Kg Semi-Automatic Top Loading Washing Machine (WTT70ALIM, Burgundy Qpaque)', 'LG 8.0 Kg 5 Star Inverter Touch Control Fully-Automatic Front Load Washing Machine with Heater(FHM1408BDL, Silver, 6 Motion Direct Drive)', 'LG 8 Kg 5 Star Inverter Fully-Automatic Top Loading Washing Machine (T80SJMB1Z, Middle Black, Jet Spray+)', 'LG 7 Kg 5 Star Inverter Fully-Automatic Top Loading Washing Machine (T70SJMB1Z, Middle Black, Jet Spray+)', 'LG 7.5 Kg 5 Star Smart Inverter Fully-Automatic Top Load Washing Machine (T75SKSF1Z, Middle Free Silver, TurboDrum | Smart Motion)', 'IFB 6.5 Kg 5 Star Front Load Washing Machine 2X Power Dual Steam (SENORITA SXS 6510, Silver & Black, Active Color Protection, Hard Water Wash)', 'LG 7 kg 5 Star Semi-Automatic Top Loading Washing Machine (P7010RRAZ, Burgundy, Roller Jet Pulsator), Large', 'LG 9.0 Kg 5 Star Inverter Fully-Automatic Front Loading Washing Machine (FHM1409BDP, Platinum, 6 Motion Direct Drive)', 'Whirlpool 7.5 Kg Fully-Automatic Top Loading Washing Machine (Stainwash Ultra SC 10 YMW, Grey)', 'ElectroSky Portable Handy Washing Machine/Mini Washing Machine with 350 Watt (Grey)', 'LG 8.0 Kg Inverter Fully-Automatic Top Loading Washing Machine (T80SJSF1Z, Middle Free Silver)']\n",
            "['Voltas Beko 7 Kg Semi-Automatic Top Loading Washing Machine (WTT70ALIM, Burgundy Qpaque)', 'LG 8.0 Kg 5 Star Inverter Touch Control Fully-Automatic Front Load Washing Machine with Heater(FHM1408BDL, Silver, 6 Motion Direct Drive)', 'LG 8 Kg 5 Star Inverter Fully-Automatic Top Loading Washing Machine (T80SJMB1Z, Middle Black, Jet Spray+)', 'LG 7 Kg 5 Star Inverter Fully-Automatic Top Loading Washing Machine (T70SJMB1Z, Middle Black, Jet Spray+)', 'LG 7.5 Kg 5 Star Smart Inverter Fully-Automatic Top Load Washing Machine (T75SKSF1Z, Middle Free Silver, TurboDrum | Smart Motion)', 'IFB 6.5 Kg 5 Star Front Load Washing Machine 2X Power Dual Steam (SENORITA SXS 6510, Silver & Black, Active Color Protection, Hard Water Wash)', 'LG 7 kg 5 Star Semi-Automatic Top Loading Washing Machine (P7010RRAZ, Burgundy, Roller Jet Pulsator), Large', 'LG 9.0 Kg 5 Star Inverter Fully-Automatic Front Loading Washing Machine (FHM1409BDP, Platinum, 6 Motion Direct Drive)', 'Whirlpool 7.5 Kg Fully-Automatic Top Loading Washing Machine (Stainwash Ultra SC 10 YMW, Grey)', 'ElectroSky Portable Handy Washing Machine/Mini Washing Machine with 350 Watt (Grey)', 'LG 8.0 Kg Inverter Fully-Automatic Top Loading Washing Machine (T80SJSF1Z, Middle Free Silver)', 'LG 7 kg Inverter Fully-Automatic Top Loading Washing Machine (T70SPSF2Z, Middle Free Silver)']\n",
            "['Voltas Beko 7 Kg Semi-Automatic Top Loading Washing Machine (WTT70ALIM, Burgundy Qpaque)', 'LG 8.0 Kg 5 Star Inverter Touch Control Fully-Automatic Front Load Washing Machine with Heater(FHM1408BDL, Silver, 6 Motion Direct Drive)', 'LG 8 Kg 5 Star Inverter Fully-Automatic Top Loading Washing Machine (T80SJMB1Z, Middle Black, Jet Spray+)', 'LG 7 Kg 5 Star Inverter Fully-Automatic Top Loading Washing Machine (T70SJMB1Z, Middle Black, Jet Spray+)', 'LG 7.5 Kg 5 Star Smart Inverter Fully-Automatic Top Load Washing Machine (T75SKSF1Z, Middle Free Silver, TurboDrum | Smart Motion)', 'IFB 6.5 Kg 5 Star Front Load Washing Machine 2X Power Dual Steam (SENORITA SXS 6510, Silver & Black, Active Color Protection, Hard Water Wash)', 'LG 7 kg 5 Star Semi-Automatic Top Loading Washing Machine (P7010RRAZ, Burgundy, Roller Jet Pulsator), Large', 'LG 9.0 Kg 5 Star Inverter Fully-Automatic Front Loading Washing Machine (FHM1409BDP, Platinum, 6 Motion Direct Drive)', 'Whirlpool 7.5 Kg Fully-Automatic Top Loading Washing Machine (Stainwash Ultra SC 10 YMW, Grey)', 'ElectroSky Portable Handy Washing Machine/Mini Washing Machine with 350 Watt (Grey)', 'LG 8.0 Kg Inverter Fully-Automatic Top Loading Washing Machine (T80SJSF1Z, Middle Free Silver)', 'LG 7 kg Inverter Fully-Automatic Top Loading Washing Machine (T70SPSF2Z, Middle Free Silver)', 'LG 10 Kg 5 Star Smart Inverter Fully-Automatic Top Load Washing Machine (T10SJMB1Z, Middle Black, TurboDrum | Jet Spray+)']\n",
            "['Voltas Beko 7 Kg Semi-Automatic Top Loading Washing Machine (WTT70ALIM, Burgundy Qpaque)', 'LG 8.0 Kg 5 Star Inverter Touch Control Fully-Automatic Front Load Washing Machine with Heater(FHM1408BDL, Silver, 6 Motion Direct Drive)', 'LG 8 Kg 5 Star Inverter Fully-Automatic Top Loading Washing Machine (T80SJMB1Z, Middle Black, Jet Spray+)', 'LG 7 Kg 5 Star Inverter Fully-Automatic Top Loading Washing Machine (T70SJMB1Z, Middle Black, Jet Spray+)', 'LG 7.5 Kg 5 Star Smart Inverter Fully-Automatic Top Load Washing Machine (T75SKSF1Z, Middle Free Silver, TurboDrum | Smart Motion)', 'IFB 6.5 Kg 5 Star Front Load Washing Machine 2X Power Dual Steam (SENORITA SXS 6510, Silver & Black, Active Color Protection, Hard Water Wash)', 'LG 7 kg 5 Star Semi-Automatic Top Loading Washing Machine (P7010RRAZ, Burgundy, Roller Jet Pulsator), Large', 'LG 9.0 Kg 5 Star Inverter Fully-Automatic Front Loading Washing Machine (FHM1409BDP, Platinum, 6 Motion Direct Drive)', 'Whirlpool 7.5 Kg Fully-Automatic Top Loading Washing Machine (Stainwash Ultra SC 10 YMW, Grey)', 'ElectroSky Portable Handy Washing Machine/Mini Washing Machine with 350 Watt (Grey)', 'LG 8.0 Kg Inverter Fully-Automatic Top Loading Washing Machine (T80SJSF1Z, Middle Free Silver)', 'LG 7 kg Inverter Fully-Automatic Top Loading Washing Machine (T70SPSF2Z, Middle Free Silver)', 'LG 10 Kg 5 Star Smart Inverter Fully-Automatic Top Load Washing Machine (T10SJMB1Z, Middle Black, TurboDrum | Jet Spray+)', 'LG 6.5 Kg 5 Star Smart Inverter Fully-Automatic Top Loading Washing Machine (T65SPSF2Z, Middle Free Silver, TurboDrum)']\n",
            "['Voltas Beko 7 Kg Semi-Automatic Top Loading Washing Machine (WTT70ALIM, Burgundy Qpaque)', 'LG 8.0 Kg 5 Star Inverter Touch Control Fully-Automatic Front Load Washing Machine with Heater(FHM1408BDL, Silver, 6 Motion Direct Drive)', 'LG 8 Kg 5 Star Inverter Fully-Automatic Top Loading Washing Machine (T80SJMB1Z, Middle Black, Jet Spray+)', 'LG 7 Kg 5 Star Inverter Fully-Automatic Top Loading Washing Machine (T70SJMB1Z, Middle Black, Jet Spray+)', 'LG 7.5 Kg 5 Star Smart Inverter Fully-Automatic Top Load Washing Machine (T75SKSF1Z, Middle Free Silver, TurboDrum | Smart Motion)', 'IFB 6.5 Kg 5 Star Front Load Washing Machine 2X Power Dual Steam (SENORITA SXS 6510, Silver & Black, Active Color Protection, Hard Water Wash)', 'LG 7 kg 5 Star Semi-Automatic Top Loading Washing Machine (P7010RRAZ, Burgundy, Roller Jet Pulsator), Large', 'LG 9.0 Kg 5 Star Inverter Fully-Automatic Front Loading Washing Machine (FHM1409BDP, Platinum, 6 Motion Direct Drive)', 'Whirlpool 7.5 Kg Fully-Automatic Top Loading Washing Machine (Stainwash Ultra SC 10 YMW, Grey)', 'ElectroSky Portable Handy Washing Machine/Mini Washing Machine with 350 Watt (Grey)', 'LG 8.0 Kg Inverter Fully-Automatic Top Loading Washing Machine (T80SJSF1Z, Middle Free Silver)', 'LG 7 kg Inverter Fully-Automatic Top Loading Washing Machine (T70SPSF2Z, Middle Free Silver)', 'LG 10 Kg 5 Star Smart Inverter Fully-Automatic Top Load Washing Machine (T10SJMB1Z, Middle Black, TurboDrum | Jet Spray+)', 'LG 6.5 Kg 5 Star Smart Inverter Fully-Automatic Top Loading Washing Machine (T65SPSF2Z, Middle Free Silver, TurboDrum)', 'The Bling Stores Mini Foldable Washing Machine | Undergarments and use in travel also | Ultrasonic Cleaning Machine | Small Automatic Portable Underwear Folding Washing Machine [Multicolor]']\n",
            "['Voltas Beko 7 Kg Semi-Automatic Top Loading Washing Machine (WTT70ALIM, Burgundy Qpaque)', 'LG 8.0 Kg 5 Star Inverter Touch Control Fully-Automatic Front Load Washing Machine with Heater(FHM1408BDL, Silver, 6 Motion Direct Drive)', 'LG 8 Kg 5 Star Inverter Fully-Automatic Top Loading Washing Machine (T80SJMB1Z, Middle Black, Jet Spray+)', 'LG 7 Kg 5 Star Inverter Fully-Automatic Top Loading Washing Machine (T70SJMB1Z, Middle Black, Jet Spray+)', 'LG 7.5 Kg 5 Star Smart Inverter Fully-Automatic Top Load Washing Machine (T75SKSF1Z, Middle Free Silver, TurboDrum | Smart Motion)', 'IFB 6.5 Kg 5 Star Front Load Washing Machine 2X Power Dual Steam (SENORITA SXS 6510, Silver & Black, Active Color Protection, Hard Water Wash)', 'LG 7 kg 5 Star Semi-Automatic Top Loading Washing Machine (P7010RRAZ, Burgundy, Roller Jet Pulsator), Large', 'LG 9.0 Kg 5 Star Inverter Fully-Automatic Front Loading Washing Machine (FHM1409BDP, Platinum, 6 Motion Direct Drive)', 'Whirlpool 7.5 Kg Fully-Automatic Top Loading Washing Machine (Stainwash Ultra SC 10 YMW, Grey)', 'ElectroSky Portable Handy Washing Machine/Mini Washing Machine with 350 Watt (Grey)', 'LG 8.0 Kg Inverter Fully-Automatic Top Loading Washing Machine (T80SJSF1Z, Middle Free Silver)', 'LG 7 kg Inverter Fully-Automatic Top Loading Washing Machine (T70SPSF2Z, Middle Free Silver)', 'LG 10 Kg 5 Star Smart Inverter Fully-Automatic Top Load Washing Machine (T10SJMB1Z, Middle Black, TurboDrum | Jet Spray+)', 'LG 6.5 Kg 5 Star Smart Inverter Fully-Automatic Top Loading Washing Machine (T65SPSF2Z, Middle Free Silver, TurboDrum)', 'The Bling Stores Mini Foldable Washing Machine | Undergarments and use in travel also | Ultrasonic Cleaning Machine | Small Automatic Portable Underwear Folding Washing Machine [Multicolor]', 'LG 8 Kg 5 Star Inverter Wi-Fi Fully-Automatic Front Loading Washing Machine with Inbuilt heater (FHP1208Z5M, Middle Black, AI DD Technology & Steam for Hygiene)']\n"
          ]
        }
      ]
    },
    {
      "cell_type": "code",
      "source": [
        "# rating\n",
        "p_rating=data.find_all('span', class_='a-icon-alt')\n",
        "p_rating"
      ],
      "metadata": {
        "colab": {
          "base_uri": "https://localhost:8080/"
        },
        "id": "FLpXMgdmIL1-",
        "outputId": "77ac69fd-1468-4cee-fcb3-b0896f15d781"
      },
      "execution_count": 10,
      "outputs": [
        {
          "output_type": "execute_result",
          "data": {
            "text/plain": [
              "[<span class=\"a-icon-alt\">3.8 out of 5 stars</span>,\n",
              " <span class=\"a-icon-alt\">4.4 out of 5 stars</span>,\n",
              " <span class=\"a-icon-alt\">4.4 out of 5 stars</span>,\n",
              " <span class=\"a-icon-alt\">4.5 out of 5 stars</span>,\n",
              " <span class=\"a-icon-alt\">4.2 out of 5 stars</span>,\n",
              " <span class=\"a-icon-alt\">4.2 out of 5 stars</span>,\n",
              " <span class=\"a-icon-alt\">4.4 out of 5 stars</span>,\n",
              " <span class=\"a-icon-alt\">4.4 out of 5 stars</span>,\n",
              " <span class=\"a-icon-alt\">4.2 out of 5 stars</span>,\n",
              " <span class=\"a-icon-alt\">3.3 out of 5 stars</span>,\n",
              " <span class=\"a-icon-alt\">4.4 out of 5 stars</span>,\n",
              " <span class=\"a-icon-alt\">4.4 out of 5 stars</span>,\n",
              " <span class=\"a-icon-alt\">4.4 out of 5 stars</span>,\n",
              " <span class=\"a-icon-alt\">4.3 out of 5 stars</span>,\n",
              " <span class=\"a-icon-alt\">3.7 out of 5 stars</span>,\n",
              " <span class=\"a-icon-alt\">4.7 out of 5 stars</span>,\n",
              " <span class=\"a-icon-alt\">4 Stars &amp; Up</span>,\n",
              " <span class=\"a-icon-alt\">3 Stars &amp; Up</span>,\n",
              " <span class=\"a-icon-alt\">2 Stars &amp; Up</span>,\n",
              " <span class=\"a-icon-alt\">1 Star &amp; Up</span>]"
            ]
          },
          "metadata": {},
          "execution_count": 10
        }
      ]
    },
    {
      "cell_type": "code",
      "source": [
        "p_rating1=[]\n",
        "for i in p_rating:\n",
        "\n",
        "  p_rating1.append(i.text)\n",
        "  print(p_rating1)"
      ],
      "metadata": {
        "colab": {
          "base_uri": "https://localhost:8080/"
        },
        "id": "YEHhiMqNS9iN",
        "outputId": "64569791-4da1-4081-ecfa-a8cd09a7408e"
      },
      "execution_count": 11,
      "outputs": [
        {
          "output_type": "stream",
          "name": "stdout",
          "text": [
            "['3.8 out of 5 stars']\n",
            "['3.8 out of 5 stars', '4.4 out of 5 stars']\n",
            "['3.8 out of 5 stars', '4.4 out of 5 stars', '4.4 out of 5 stars']\n",
            "['3.8 out of 5 stars', '4.4 out of 5 stars', '4.4 out of 5 stars', '4.5 out of 5 stars']\n",
            "['3.8 out of 5 stars', '4.4 out of 5 stars', '4.4 out of 5 stars', '4.5 out of 5 stars', '4.2 out of 5 stars']\n",
            "['3.8 out of 5 stars', '4.4 out of 5 stars', '4.4 out of 5 stars', '4.5 out of 5 stars', '4.2 out of 5 stars', '4.2 out of 5 stars']\n",
            "['3.8 out of 5 stars', '4.4 out of 5 stars', '4.4 out of 5 stars', '4.5 out of 5 stars', '4.2 out of 5 stars', '4.2 out of 5 stars', '4.4 out of 5 stars']\n",
            "['3.8 out of 5 stars', '4.4 out of 5 stars', '4.4 out of 5 stars', '4.5 out of 5 stars', '4.2 out of 5 stars', '4.2 out of 5 stars', '4.4 out of 5 stars', '4.4 out of 5 stars']\n",
            "['3.8 out of 5 stars', '4.4 out of 5 stars', '4.4 out of 5 stars', '4.5 out of 5 stars', '4.2 out of 5 stars', '4.2 out of 5 stars', '4.4 out of 5 stars', '4.4 out of 5 stars', '4.2 out of 5 stars']\n",
            "['3.8 out of 5 stars', '4.4 out of 5 stars', '4.4 out of 5 stars', '4.5 out of 5 stars', '4.2 out of 5 stars', '4.2 out of 5 stars', '4.4 out of 5 stars', '4.4 out of 5 stars', '4.2 out of 5 stars', '3.3 out of 5 stars']\n",
            "['3.8 out of 5 stars', '4.4 out of 5 stars', '4.4 out of 5 stars', '4.5 out of 5 stars', '4.2 out of 5 stars', '4.2 out of 5 stars', '4.4 out of 5 stars', '4.4 out of 5 stars', '4.2 out of 5 stars', '3.3 out of 5 stars', '4.4 out of 5 stars']\n",
            "['3.8 out of 5 stars', '4.4 out of 5 stars', '4.4 out of 5 stars', '4.5 out of 5 stars', '4.2 out of 5 stars', '4.2 out of 5 stars', '4.4 out of 5 stars', '4.4 out of 5 stars', '4.2 out of 5 stars', '3.3 out of 5 stars', '4.4 out of 5 stars', '4.4 out of 5 stars']\n",
            "['3.8 out of 5 stars', '4.4 out of 5 stars', '4.4 out of 5 stars', '4.5 out of 5 stars', '4.2 out of 5 stars', '4.2 out of 5 stars', '4.4 out of 5 stars', '4.4 out of 5 stars', '4.2 out of 5 stars', '3.3 out of 5 stars', '4.4 out of 5 stars', '4.4 out of 5 stars', '4.4 out of 5 stars']\n",
            "['3.8 out of 5 stars', '4.4 out of 5 stars', '4.4 out of 5 stars', '4.5 out of 5 stars', '4.2 out of 5 stars', '4.2 out of 5 stars', '4.4 out of 5 stars', '4.4 out of 5 stars', '4.2 out of 5 stars', '3.3 out of 5 stars', '4.4 out of 5 stars', '4.4 out of 5 stars', '4.4 out of 5 stars', '4.3 out of 5 stars']\n",
            "['3.8 out of 5 stars', '4.4 out of 5 stars', '4.4 out of 5 stars', '4.5 out of 5 stars', '4.2 out of 5 stars', '4.2 out of 5 stars', '4.4 out of 5 stars', '4.4 out of 5 stars', '4.2 out of 5 stars', '3.3 out of 5 stars', '4.4 out of 5 stars', '4.4 out of 5 stars', '4.4 out of 5 stars', '4.3 out of 5 stars', '3.7 out of 5 stars']\n",
            "['3.8 out of 5 stars', '4.4 out of 5 stars', '4.4 out of 5 stars', '4.5 out of 5 stars', '4.2 out of 5 stars', '4.2 out of 5 stars', '4.4 out of 5 stars', '4.4 out of 5 stars', '4.2 out of 5 stars', '3.3 out of 5 stars', '4.4 out of 5 stars', '4.4 out of 5 stars', '4.4 out of 5 stars', '4.3 out of 5 stars', '3.7 out of 5 stars', '4.7 out of 5 stars']\n",
            "['3.8 out of 5 stars', '4.4 out of 5 stars', '4.4 out of 5 stars', '4.5 out of 5 stars', '4.2 out of 5 stars', '4.2 out of 5 stars', '4.4 out of 5 stars', '4.4 out of 5 stars', '4.2 out of 5 stars', '3.3 out of 5 stars', '4.4 out of 5 stars', '4.4 out of 5 stars', '4.4 out of 5 stars', '4.3 out of 5 stars', '3.7 out of 5 stars', '4.7 out of 5 stars', '4 Stars & Up']\n",
            "['3.8 out of 5 stars', '4.4 out of 5 stars', '4.4 out of 5 stars', '4.5 out of 5 stars', '4.2 out of 5 stars', '4.2 out of 5 stars', '4.4 out of 5 stars', '4.4 out of 5 stars', '4.2 out of 5 stars', '3.3 out of 5 stars', '4.4 out of 5 stars', '4.4 out of 5 stars', '4.4 out of 5 stars', '4.3 out of 5 stars', '3.7 out of 5 stars', '4.7 out of 5 stars', '4 Stars & Up', '3 Stars & Up']\n",
            "['3.8 out of 5 stars', '4.4 out of 5 stars', '4.4 out of 5 stars', '4.5 out of 5 stars', '4.2 out of 5 stars', '4.2 out of 5 stars', '4.4 out of 5 stars', '4.4 out of 5 stars', '4.2 out of 5 stars', '3.3 out of 5 stars', '4.4 out of 5 stars', '4.4 out of 5 stars', '4.4 out of 5 stars', '4.3 out of 5 stars', '3.7 out of 5 stars', '4.7 out of 5 stars', '4 Stars & Up', '3 Stars & Up', '2 Stars & Up']\n",
            "['3.8 out of 5 stars', '4.4 out of 5 stars', '4.4 out of 5 stars', '4.5 out of 5 stars', '4.2 out of 5 stars', '4.2 out of 5 stars', '4.4 out of 5 stars', '4.4 out of 5 stars', '4.2 out of 5 stars', '3.3 out of 5 stars', '4.4 out of 5 stars', '4.4 out of 5 stars', '4.4 out of 5 stars', '4.3 out of 5 stars', '3.7 out of 5 stars', '4.7 out of 5 stars', '4 Stars & Up', '3 Stars & Up', '2 Stars & Up', '1 Star & Up']\n"
          ]
        }
      ]
    },
    {
      "cell_type": "code",
      "source": [
        "# price\n",
        "price_value=data.find_all('span', class_='a-price-whole')\n",
        "price_value1=[]\n",
        "for i in price_value:\n",
        "  price_value1.append(i.text)\n",
        "  print(price_value1)"
      ],
      "metadata": {
        "colab": {
          "base_uri": "https://localhost:8080/"
        },
        "id": "OjIQE9juI0Pm",
        "outputId": "13557255-cdc1-49e2-f92a-10e0d252b6b1"
      },
      "execution_count": 12,
      "outputs": [
        {
          "output_type": "stream",
          "name": "stdout",
          "text": [
            "['9,600']\n",
            "['9,600', '33,990']\n",
            "['9,600', '33,990', '22,941']\n",
            "['9,600', '33,990', '22,941', '21,200']\n",
            "['9,600', '33,990', '22,941', '21,200', '18,480']\n",
            "['9,600', '33,990', '22,941', '21,200', '18,480', '29,990']\n",
            "['9,600', '33,990', '22,941', '21,200', '18,480', '29,990', '13,490']\n",
            "['9,600', '33,990', '22,941', '21,200', '18,480', '29,990', '13,490', '13,990']\n",
            "['9,600', '33,990', '22,941', '21,200', '18,480', '29,990', '13,490', '13,990', '36,990']\n",
            "['9,600', '33,990', '22,941', '21,200', '18,480', '29,990', '13,490', '13,990', '36,990', '21,490']\n",
            "['9,600', '33,990', '22,941', '21,200', '18,480', '29,990', '13,490', '13,990', '36,990', '21,490', '2,699']\n",
            "['9,600', '33,990', '22,941', '21,200', '18,480', '29,990', '13,490', '13,990', '36,990', '21,490', '2,699', '23,390']\n",
            "['9,600', '33,990', '22,941', '21,200', '18,480', '29,990', '13,490', '13,990', '36,990', '21,490', '2,699', '23,390', '23,649']\n",
            "['9,600', '33,990', '22,941', '21,200', '18,480', '29,990', '13,490', '13,990', '36,990', '21,490', '2,699', '23,390', '23,649', '20,415']\n",
            "['9,600', '33,990', '22,941', '21,200', '18,480', '29,990', '13,490', '13,990', '36,990', '21,490', '2,699', '23,390', '23,649', '20,415', '27,499']\n",
            "['9,600', '33,990', '22,941', '21,200', '18,480', '29,990', '13,490', '13,990', '36,990', '21,490', '2,699', '23,390', '23,649', '20,415', '27,499', '18,790']\n",
            "['9,600', '33,990', '22,941', '21,200', '18,480', '29,990', '13,490', '13,990', '36,990', '21,490', '2,699', '23,390', '23,649', '20,415', '27,499', '18,790', '5,399']\n"
          ]
        }
      ]
    },
    {
      "cell_type": "code",
      "source": [
        "print(len(title_name1))\n",
        "print(len(p_rating1))\n",
        "print(len(price_value1))"
      ],
      "metadata": {
        "colab": {
          "base_uri": "https://localhost:8080/"
        },
        "id": "BQZ3rS2hfDG1",
        "outputId": "6525c691-24a5-4c62-bcf3-e967fe7bf2af"
      },
      "execution_count": 13,
      "outputs": [
        {
          "output_type": "stream",
          "name": "stdout",
          "text": [
            "16\n",
            "20\n",
            "17\n"
          ]
        }
      ]
    },
    {
      "cell_type": "code",
      "source": [
        "title_name1=title_name1[:15]\n",
        "p_rating1=p_rating1[:15]\n",
        "price_value1=price_value1[:15]\n",
        "print(len(title_name1))\n",
        "print(len(p_rating1))\n",
        "print(len(price_value1))"
      ],
      "metadata": {
        "id": "Q-y3u2fkfezB",
        "colab": {
          "base_uri": "https://localhost:8080/"
        },
        "outputId": "fdd85633-bf49-4f99-8fd5-4f7a80ecb8e7"
      },
      "execution_count": 14,
      "outputs": [
        {
          "output_type": "stream",
          "name": "stdout",
          "text": [
            "15\n",
            "15\n",
            "15\n"
          ]
        }
      ]
    },
    {
      "cell_type": "code",
      "source": [
        "import pandas as pd\n",
        "import numpy as np\n",
        "df=pd.DataFrame({'Name':title_name1,'Rating':p_rating1,'Price':price_value1})\n",
        "\n",
        "df"
      ],
      "metadata": {
        "id": "eBjz7jG6bt9A",
        "colab": {
          "base_uri": "https://localhost:8080/",
          "height": 519
        },
        "outputId": "29519c55-e3e7-4f4c-809c-1cc73175475e"
      },
      "execution_count": 15,
      "outputs": [
        {
          "output_type": "execute_result",
          "data": {
            "text/plain": [
              "                                                 Name              Rating  \\\n",
              "0   Voltas Beko 7 Kg Semi-Automatic Top Loading Wa...  3.8 out of 5 stars   \n",
              "1   LG 8.0 Kg 5 Star Inverter Touch Control Fully-...  4.4 out of 5 stars   \n",
              "2   LG 8 Kg 5 Star Inverter Fully-Automatic Top Lo...  4.4 out of 5 stars   \n",
              "3   LG 7 Kg 5 Star Inverter Fully-Automatic Top Lo...  4.5 out of 5 stars   \n",
              "4   LG 7.5 Kg 5 Star Smart Inverter Fully-Automati...  4.2 out of 5 stars   \n",
              "5   IFB 6.5 Kg 5 Star Front Load Washing Machine 2...  4.2 out of 5 stars   \n",
              "6   LG 7 kg 5 Star Semi-Automatic Top Loading Wash...  4.4 out of 5 stars   \n",
              "7   LG 9.0 Kg 5 Star Inverter Fully-Automatic Fron...  4.4 out of 5 stars   \n",
              "8   Whirlpool 7.5 Kg Fully-Automatic Top Loading W...  4.2 out of 5 stars   \n",
              "9   ElectroSky Portable Handy Washing Machine/Mini...  3.3 out of 5 stars   \n",
              "10  LG 8.0 Kg Inverter Fully-Automatic Top Loading...  4.4 out of 5 stars   \n",
              "11  LG 7 kg Inverter Fully-Automatic Top Loading W...  4.4 out of 5 stars   \n",
              "12  LG 10 Kg 5 Star Smart Inverter Fully-Automatic...  4.4 out of 5 stars   \n",
              "13  LG 6.5 Kg 5 Star Smart Inverter Fully-Automati...  4.3 out of 5 stars   \n",
              "14  The Bling Stores Mini Foldable Washing Machine...  3.7 out of 5 stars   \n",
              "\n",
              "     Price  \n",
              "0    9,600  \n",
              "1   33,990  \n",
              "2   22,941  \n",
              "3   21,200  \n",
              "4   18,480  \n",
              "5   29,990  \n",
              "6   13,490  \n",
              "7   13,990  \n",
              "8   36,990  \n",
              "9   21,490  \n",
              "10   2,699  \n",
              "11  23,390  \n",
              "12  23,649  \n",
              "13  20,415  \n",
              "14  27,499  "
            ],
            "text/html": [
              "\n",
              "  <div id=\"df-38cc9b42-8729-4656-8d2b-1dca2e064693\">\n",
              "    <div class=\"colab-df-container\">\n",
              "      <div>\n",
              "<style scoped>\n",
              "    .dataframe tbody tr th:only-of-type {\n",
              "        vertical-align: middle;\n",
              "    }\n",
              "\n",
              "    .dataframe tbody tr th {\n",
              "        vertical-align: top;\n",
              "    }\n",
              "\n",
              "    .dataframe thead th {\n",
              "        text-align: right;\n",
              "    }\n",
              "</style>\n",
              "<table border=\"1\" class=\"dataframe\">\n",
              "  <thead>\n",
              "    <tr style=\"text-align: right;\">\n",
              "      <th></th>\n",
              "      <th>Name</th>\n",
              "      <th>Rating</th>\n",
              "      <th>Price</th>\n",
              "    </tr>\n",
              "  </thead>\n",
              "  <tbody>\n",
              "    <tr>\n",
              "      <th>0</th>\n",
              "      <td>Voltas Beko 7 Kg Semi-Automatic Top Loading Wa...</td>\n",
              "      <td>3.8 out of 5 stars</td>\n",
              "      <td>9,600</td>\n",
              "    </tr>\n",
              "    <tr>\n",
              "      <th>1</th>\n",
              "      <td>LG 8.0 Kg 5 Star Inverter Touch Control Fully-...</td>\n",
              "      <td>4.4 out of 5 stars</td>\n",
              "      <td>33,990</td>\n",
              "    </tr>\n",
              "    <tr>\n",
              "      <th>2</th>\n",
              "      <td>LG 8 Kg 5 Star Inverter Fully-Automatic Top Lo...</td>\n",
              "      <td>4.4 out of 5 stars</td>\n",
              "      <td>22,941</td>\n",
              "    </tr>\n",
              "    <tr>\n",
              "      <th>3</th>\n",
              "      <td>LG 7 Kg 5 Star Inverter Fully-Automatic Top Lo...</td>\n",
              "      <td>4.5 out of 5 stars</td>\n",
              "      <td>21,200</td>\n",
              "    </tr>\n",
              "    <tr>\n",
              "      <th>4</th>\n",
              "      <td>LG 7.5 Kg 5 Star Smart Inverter Fully-Automati...</td>\n",
              "      <td>4.2 out of 5 stars</td>\n",
              "      <td>18,480</td>\n",
              "    </tr>\n",
              "    <tr>\n",
              "      <th>5</th>\n",
              "      <td>IFB 6.5 Kg 5 Star Front Load Washing Machine 2...</td>\n",
              "      <td>4.2 out of 5 stars</td>\n",
              "      <td>29,990</td>\n",
              "    </tr>\n",
              "    <tr>\n",
              "      <th>6</th>\n",
              "      <td>LG 7 kg 5 Star Semi-Automatic Top Loading Wash...</td>\n",
              "      <td>4.4 out of 5 stars</td>\n",
              "      <td>13,490</td>\n",
              "    </tr>\n",
              "    <tr>\n",
              "      <th>7</th>\n",
              "      <td>LG 9.0 Kg 5 Star Inverter Fully-Automatic Fron...</td>\n",
              "      <td>4.4 out of 5 stars</td>\n",
              "      <td>13,990</td>\n",
              "    </tr>\n",
              "    <tr>\n",
              "      <th>8</th>\n",
              "      <td>Whirlpool 7.5 Kg Fully-Automatic Top Loading W...</td>\n",
              "      <td>4.2 out of 5 stars</td>\n",
              "      <td>36,990</td>\n",
              "    </tr>\n",
              "    <tr>\n",
              "      <th>9</th>\n",
              "      <td>ElectroSky Portable Handy Washing Machine/Mini...</td>\n",
              "      <td>3.3 out of 5 stars</td>\n",
              "      <td>21,490</td>\n",
              "    </tr>\n",
              "    <tr>\n",
              "      <th>10</th>\n",
              "      <td>LG 8.0 Kg Inverter Fully-Automatic Top Loading...</td>\n",
              "      <td>4.4 out of 5 stars</td>\n",
              "      <td>2,699</td>\n",
              "    </tr>\n",
              "    <tr>\n",
              "      <th>11</th>\n",
              "      <td>LG 7 kg Inverter Fully-Automatic Top Loading W...</td>\n",
              "      <td>4.4 out of 5 stars</td>\n",
              "      <td>23,390</td>\n",
              "    </tr>\n",
              "    <tr>\n",
              "      <th>12</th>\n",
              "      <td>LG 10 Kg 5 Star Smart Inverter Fully-Automatic...</td>\n",
              "      <td>4.4 out of 5 stars</td>\n",
              "      <td>23,649</td>\n",
              "    </tr>\n",
              "    <tr>\n",
              "      <th>13</th>\n",
              "      <td>LG 6.5 Kg 5 Star Smart Inverter Fully-Automati...</td>\n",
              "      <td>4.3 out of 5 stars</td>\n",
              "      <td>20,415</td>\n",
              "    </tr>\n",
              "    <tr>\n",
              "      <th>14</th>\n",
              "      <td>The Bling Stores Mini Foldable Washing Machine...</td>\n",
              "      <td>3.7 out of 5 stars</td>\n",
              "      <td>27,499</td>\n",
              "    </tr>\n",
              "  </tbody>\n",
              "</table>\n",
              "</div>\n",
              "      <button class=\"colab-df-convert\" onclick=\"convertToInteractive('df-38cc9b42-8729-4656-8d2b-1dca2e064693')\"\n",
              "              title=\"Convert this dataframe to an interactive table.\"\n",
              "              style=\"display:none;\">\n",
              "        \n",
              "  <svg xmlns=\"http://www.w3.org/2000/svg\" height=\"24px\"viewBox=\"0 0 24 24\"\n",
              "       width=\"24px\">\n",
              "    <path d=\"M0 0h24v24H0V0z\" fill=\"none\"/>\n",
              "    <path d=\"M18.56 5.44l.94 2.06.94-2.06 2.06-.94-2.06-.94-.94-2.06-.94 2.06-2.06.94zm-11 1L8.5 8.5l.94-2.06 2.06-.94-2.06-.94L8.5 2.5l-.94 2.06-2.06.94zm10 10l.94 2.06.94-2.06 2.06-.94-2.06-.94-.94-2.06-.94 2.06-2.06.94z\"/><path d=\"M17.41 7.96l-1.37-1.37c-.4-.4-.92-.59-1.43-.59-.52 0-1.04.2-1.43.59L10.3 9.45l-7.72 7.72c-.78.78-.78 2.05 0 2.83L4 21.41c.39.39.9.59 1.41.59.51 0 1.02-.2 1.41-.59l7.78-7.78 2.81-2.81c.8-.78.8-2.07 0-2.86zM5.41 20L4 18.59l7.72-7.72 1.47 1.35L5.41 20z\"/>\n",
              "  </svg>\n",
              "      </button>\n",
              "      \n",
              "  <style>\n",
              "    .colab-df-container {\n",
              "      display:flex;\n",
              "      flex-wrap:wrap;\n",
              "      gap: 12px;\n",
              "    }\n",
              "\n",
              "    .colab-df-convert {\n",
              "      background-color: #E8F0FE;\n",
              "      border: none;\n",
              "      border-radius: 50%;\n",
              "      cursor: pointer;\n",
              "      display: none;\n",
              "      fill: #1967D2;\n",
              "      height: 32px;\n",
              "      padding: 0 0 0 0;\n",
              "      width: 32px;\n",
              "    }\n",
              "\n",
              "    .colab-df-convert:hover {\n",
              "      background-color: #E2EBFA;\n",
              "      box-shadow: 0px 1px 2px rgba(60, 64, 67, 0.3), 0px 1px 3px 1px rgba(60, 64, 67, 0.15);\n",
              "      fill: #174EA6;\n",
              "    }\n",
              "\n",
              "    [theme=dark] .colab-df-convert {\n",
              "      background-color: #3B4455;\n",
              "      fill: #D2E3FC;\n",
              "    }\n",
              "\n",
              "    [theme=dark] .colab-df-convert:hover {\n",
              "      background-color: #434B5C;\n",
              "      box-shadow: 0px 1px 3px 1px rgba(0, 0, 0, 0.15);\n",
              "      filter: drop-shadow(0px 1px 2px rgba(0, 0, 0, 0.3));\n",
              "      fill: #FFFFFF;\n",
              "    }\n",
              "  </style>\n",
              "\n",
              "      <script>\n",
              "        const buttonEl =\n",
              "          document.querySelector('#df-38cc9b42-8729-4656-8d2b-1dca2e064693 button.colab-df-convert');\n",
              "        buttonEl.style.display =\n",
              "          google.colab.kernel.accessAllowed ? 'block' : 'none';\n",
              "\n",
              "        async function convertToInteractive(key) {\n",
              "          const element = document.querySelector('#df-38cc9b42-8729-4656-8d2b-1dca2e064693');\n",
              "          const dataTable =\n",
              "            await google.colab.kernel.invokeFunction('convertToInteractive',\n",
              "                                                     [key], {});\n",
              "          if (!dataTable) return;\n",
              "\n",
              "          const docLinkHtml = 'Like what you see? Visit the ' +\n",
              "            '<a target=\"_blank\" href=https://colab.research.google.com/notebooks/data_table.ipynb>data table notebook</a>'\n",
              "            + ' to learn more about interactive tables.';\n",
              "          element.innerHTML = '';\n",
              "          dataTable['output_type'] = 'display_data';\n",
              "          await google.colab.output.renderOutput(dataTable, element);\n",
              "          const docLink = document.createElement('div');\n",
              "          docLink.innerHTML = docLinkHtml;\n",
              "          element.appendChild(docLink);\n",
              "        }\n",
              "      </script>\n",
              "    </div>\n",
              "  </div>\n",
              "  "
            ]
          },
          "metadata": {},
          "execution_count": 15
        }
      ]
    },
    {
      "cell_type": "code",
      "source": [
        "df.head()"
      ],
      "metadata": {
        "colab": {
          "base_uri": "https://localhost:8080/",
          "height": 206
        },
        "id": "jlhSPfAQhYbN",
        "outputId": "45aba97a-c927-459b-cf79-6905d7dbb632"
      },
      "execution_count": 16,
      "outputs": [
        {
          "output_type": "execute_result",
          "data": {
            "text/plain": [
              "                                                Name              Rating  \\\n",
              "0  Voltas Beko 7 Kg Semi-Automatic Top Loading Wa...  3.8 out of 5 stars   \n",
              "1  LG 8.0 Kg 5 Star Inverter Touch Control Fully-...  4.4 out of 5 stars   \n",
              "2  LG 8 Kg 5 Star Inverter Fully-Automatic Top Lo...  4.4 out of 5 stars   \n",
              "3  LG 7 Kg 5 Star Inverter Fully-Automatic Top Lo...  4.5 out of 5 stars   \n",
              "4  LG 7.5 Kg 5 Star Smart Inverter Fully-Automati...  4.2 out of 5 stars   \n",
              "\n",
              "    Price  \n",
              "0   9,600  \n",
              "1  33,990  \n",
              "2  22,941  \n",
              "3  21,200  \n",
              "4  18,480  "
            ],
            "text/html": [
              "\n",
              "  <div id=\"df-e50150b1-77fd-4719-b9f2-409863992727\">\n",
              "    <div class=\"colab-df-container\">\n",
              "      <div>\n",
              "<style scoped>\n",
              "    .dataframe tbody tr th:only-of-type {\n",
              "        vertical-align: middle;\n",
              "    }\n",
              "\n",
              "    .dataframe tbody tr th {\n",
              "        vertical-align: top;\n",
              "    }\n",
              "\n",
              "    .dataframe thead th {\n",
              "        text-align: right;\n",
              "    }\n",
              "</style>\n",
              "<table border=\"1\" class=\"dataframe\">\n",
              "  <thead>\n",
              "    <tr style=\"text-align: right;\">\n",
              "      <th></th>\n",
              "      <th>Name</th>\n",
              "      <th>Rating</th>\n",
              "      <th>Price</th>\n",
              "    </tr>\n",
              "  </thead>\n",
              "  <tbody>\n",
              "    <tr>\n",
              "      <th>0</th>\n",
              "      <td>Voltas Beko 7 Kg Semi-Automatic Top Loading Wa...</td>\n",
              "      <td>3.8 out of 5 stars</td>\n",
              "      <td>9,600</td>\n",
              "    </tr>\n",
              "    <tr>\n",
              "      <th>1</th>\n",
              "      <td>LG 8.0 Kg 5 Star Inverter Touch Control Fully-...</td>\n",
              "      <td>4.4 out of 5 stars</td>\n",
              "      <td>33,990</td>\n",
              "    </tr>\n",
              "    <tr>\n",
              "      <th>2</th>\n",
              "      <td>LG 8 Kg 5 Star Inverter Fully-Automatic Top Lo...</td>\n",
              "      <td>4.4 out of 5 stars</td>\n",
              "      <td>22,941</td>\n",
              "    </tr>\n",
              "    <tr>\n",
              "      <th>3</th>\n",
              "      <td>LG 7 Kg 5 Star Inverter Fully-Automatic Top Lo...</td>\n",
              "      <td>4.5 out of 5 stars</td>\n",
              "      <td>21,200</td>\n",
              "    </tr>\n",
              "    <tr>\n",
              "      <th>4</th>\n",
              "      <td>LG 7.5 Kg 5 Star Smart Inverter Fully-Automati...</td>\n",
              "      <td>4.2 out of 5 stars</td>\n",
              "      <td>18,480</td>\n",
              "    </tr>\n",
              "  </tbody>\n",
              "</table>\n",
              "</div>\n",
              "      <button class=\"colab-df-convert\" onclick=\"convertToInteractive('df-e50150b1-77fd-4719-b9f2-409863992727')\"\n",
              "              title=\"Convert this dataframe to an interactive table.\"\n",
              "              style=\"display:none;\">\n",
              "        \n",
              "  <svg xmlns=\"http://www.w3.org/2000/svg\" height=\"24px\"viewBox=\"0 0 24 24\"\n",
              "       width=\"24px\">\n",
              "    <path d=\"M0 0h24v24H0V0z\" fill=\"none\"/>\n",
              "    <path d=\"M18.56 5.44l.94 2.06.94-2.06 2.06-.94-2.06-.94-.94-2.06-.94 2.06-2.06.94zm-11 1L8.5 8.5l.94-2.06 2.06-.94-2.06-.94L8.5 2.5l-.94 2.06-2.06.94zm10 10l.94 2.06.94-2.06 2.06-.94-2.06-.94-.94-2.06-.94 2.06-2.06.94z\"/><path d=\"M17.41 7.96l-1.37-1.37c-.4-.4-.92-.59-1.43-.59-.52 0-1.04.2-1.43.59L10.3 9.45l-7.72 7.72c-.78.78-.78 2.05 0 2.83L4 21.41c.39.39.9.59 1.41.59.51 0 1.02-.2 1.41-.59l7.78-7.78 2.81-2.81c.8-.78.8-2.07 0-2.86zM5.41 20L4 18.59l7.72-7.72 1.47 1.35L5.41 20z\"/>\n",
              "  </svg>\n",
              "      </button>\n",
              "      \n",
              "  <style>\n",
              "    .colab-df-container {\n",
              "      display:flex;\n",
              "      flex-wrap:wrap;\n",
              "      gap: 12px;\n",
              "    }\n",
              "\n",
              "    .colab-df-convert {\n",
              "      background-color: #E8F0FE;\n",
              "      border: none;\n",
              "      border-radius: 50%;\n",
              "      cursor: pointer;\n",
              "      display: none;\n",
              "      fill: #1967D2;\n",
              "      height: 32px;\n",
              "      padding: 0 0 0 0;\n",
              "      width: 32px;\n",
              "    }\n",
              "\n",
              "    .colab-df-convert:hover {\n",
              "      background-color: #E2EBFA;\n",
              "      box-shadow: 0px 1px 2px rgba(60, 64, 67, 0.3), 0px 1px 3px 1px rgba(60, 64, 67, 0.15);\n",
              "      fill: #174EA6;\n",
              "    }\n",
              "\n",
              "    [theme=dark] .colab-df-convert {\n",
              "      background-color: #3B4455;\n",
              "      fill: #D2E3FC;\n",
              "    }\n",
              "\n",
              "    [theme=dark] .colab-df-convert:hover {\n",
              "      background-color: #434B5C;\n",
              "      box-shadow: 0px 1px 3px 1px rgba(0, 0, 0, 0.15);\n",
              "      filter: drop-shadow(0px 1px 2px rgba(0, 0, 0, 0.3));\n",
              "      fill: #FFFFFF;\n",
              "    }\n",
              "  </style>\n",
              "\n",
              "      <script>\n",
              "        const buttonEl =\n",
              "          document.querySelector('#df-e50150b1-77fd-4719-b9f2-409863992727 button.colab-df-convert');\n",
              "        buttonEl.style.display =\n",
              "          google.colab.kernel.accessAllowed ? 'block' : 'none';\n",
              "\n",
              "        async function convertToInteractive(key) {\n",
              "          const element = document.querySelector('#df-e50150b1-77fd-4719-b9f2-409863992727');\n",
              "          const dataTable =\n",
              "            await google.colab.kernel.invokeFunction('convertToInteractive',\n",
              "                                                     [key], {});\n",
              "          if (!dataTable) return;\n",
              "\n",
              "          const docLinkHtml = 'Like what you see? Visit the ' +\n",
              "            '<a target=\"_blank\" href=https://colab.research.google.com/notebooks/data_table.ipynb>data table notebook</a>'\n",
              "            + ' to learn more about interactive tables.';\n",
              "          element.innerHTML = '';\n",
              "          dataTable['output_type'] = 'display_data';\n",
              "          await google.colab.output.renderOutput(dataTable, element);\n",
              "          const docLink = document.createElement('div');\n",
              "          docLink.innerHTML = docLinkHtml;\n",
              "          element.appendChild(docLink);\n",
              "        }\n",
              "      </script>\n",
              "    </div>\n",
              "  </div>\n",
              "  "
            ]
          },
          "metadata": {},
          "execution_count": 16
        }
      ]
    },
    {
      "cell_type": "code",
      "source": [
        "df.info()"
      ],
      "metadata": {
        "colab": {
          "base_uri": "https://localhost:8080/"
        },
        "id": "tsgQmGM6eFOL",
        "outputId": "87e4735a-cb6f-47e2-e3b0-aa5584682217"
      },
      "execution_count": 17,
      "outputs": [
        {
          "output_type": "stream",
          "name": "stdout",
          "text": [
            "<class 'pandas.core.frame.DataFrame'>\n",
            "RangeIndex: 15 entries, 0 to 14\n",
            "Data columns (total 3 columns):\n",
            " #   Column  Non-Null Count  Dtype \n",
            "---  ------  --------------  ----- \n",
            " 0   Name    15 non-null     object\n",
            " 1   Rating  15 non-null     object\n",
            " 2   Price   15 non-null     object\n",
            "dtypes: object(3)\n",
            "memory usage: 488.0+ bytes\n"
          ]
        }
      ]
    },
    {
      "cell_type": "code",
      "source": [
        "df.to_csv(\"Washing_machine_details.csv\")"
      ],
      "metadata": {
        "id": "i7QAGdsPsc4J"
      },
      "execution_count": 38,
      "outputs": []
    },
    {
      "cell_type": "markdown",
      "source": [
        "**Conclusion:**  The project is given on No broker to scrapp the data of 2BHK&3BHK data but i am not able to fetch data may be that website blocked my ip address so I scrapped washing machine data from Amezon website.\n",
        "\n",
        "**1**)The highest price of waching machine is Whirlpool 7.5 Kg Fully-Automatic Top Loading Washing Machine and price is 36,990 rupees\n",
        "**2**)The lowest price of waching machine is LG 8.0 Kg Inverter Fully-Automatic Top Loading Washing Machine and price is 2,699 rupees\n",
        "**3**)Best rating product is LG 7 Kg 5 Star Inverter Fully-Automatic Top Loading Washing Machine(**4.5 star out of 5**)"
      ],
      "metadata": {
        "id": "vyIZ0Jxds1rv"
      }
    }
  ]
}